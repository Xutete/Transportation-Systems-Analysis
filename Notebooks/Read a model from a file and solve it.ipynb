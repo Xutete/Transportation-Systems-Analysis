{
 "cells": [
  {
   "cell_type": "markdown",
   "metadata": {},
   "source": [
    "# Optimization Problem\n",
    "In this tutorial, we will learn how to solve the following optimization problem using Gurobi solver.\n",
    "\\begin{align*}\n",
    "& \\min && x + y + z \\\\\n",
    "& \\textrm{subject to} && x + y = 1 \\\\\n",
    "&&& x + 5 y + 2 z \\le 10 \\\\\n",
    "&&& 0 \\le x \\le 5 \\\\\n",
    "&&& z \\ge 2\n",
    "\\end{align*}\n",
    "\n",
    "There are three components of above optimization problem:\n",
    "### Decisions: $x, y, z$\n",
    "### Objective function: $x + y + z$\n",
    "### Constraints: $x + y = 1, x + 5 y + 2 z \\le 10, 0 \\le x \\le 5, z \\ge 2$\n"
   ]
  },
  {
   "cell_type": "markdown",
   "metadata": {},
   "source": [
    "#### Write the above optimization problem as below in a notepad file and save it as 'model.lp'"
   ]
  },
  {
   "cell_type": "markdown",
   "metadata": {},
   "source": [
    "```\n",
    "Maximize\n",
    "  x + y + z\n",
    "Subject To\n",
    "  c0: x + y = 1\n",
    "  c1: x + 5 y + 2 z <= 10\n",
    "Bounds\n",
    "  0 <= x <= 5\n",
    "  z >= 2\n",
    "Generals\n",
    "  x y z\n",
    "End\n",
    "```"
   ]
  },
  {
   "cell_type": "markdown",
   "metadata": {},
   "source": [
    "To solve this model, we start a python session. We begin by importing Gurobi from python packages. "
   ]
  },
  {
   "cell_type": "code",
   "execution_count": 20,
   "metadata": {},
   "outputs": [],
   "source": [
    "import gurobipy as gp # import gurobipy package as gp\n",
    "from gurobipy import GRB # Import class GRB from gurobi package."
   ]
  },
  {
   "cell_type": "markdown",
   "metadata": {},
   "source": [
    "Next step is to read the model. ```gp.read()``` reads the model from file. The argument of this function should be the location of ```.lp``` file. Note that the location uses forward slashes ```/``` not backward slashes ```\\```. We assign the model read from this file to a variable named ```model```."
   ]
  },
  {
   "cell_type": "code",
   "execution_count": 86,
   "metadata": {},
   "outputs": [
    {
     "name": "stdout",
     "output_type": "stream",
     "text": [
      "Read LP format model from file D:/Down/model.lp\n",
      "Reading time = 0.00 seconds\n",
      ": 2 rows, 3 columns, 5 nonzeros\n"
     ]
    }
   ],
   "source": [
    "model = gp.read('D:/Down/model.lp')"
   ]
  },
  {
   "cell_type": "markdown",
   "metadata": {},
   "source": [
    "To switch off the verbose, we set ```model.Params.outputFlag``` to 0. If we want to see the details of the solution method, we set it equal to 1. Now it is time to solve the model. ```model.optimize()``` optimizes the model. "
   ]
  },
  {
   "cell_type": "code",
   "execution_count": 87,
   "metadata": {},
   "outputs": [],
   "source": [
    "model.Params.outputFlag = 0\n",
    "model.optimize()"
   ]
  },
  {
   "cell_type": "markdown",
   "metadata": {},
   "source": [
    "After we optimize, we need to find out whether the model is:\n",
    "\n",
    "* Feasible and Gurobi has found the optimal solution ```GRB.OPTIMAL```\n",
    "* Infeasible ```GRB.INFEASIBLE```\n",
    "* Unbounded ```GRB.UNBOUNDED```\n",
    "* Not sure if unbounded or infeasible ```GRB.INF_OR_UNBD``` \n",
    "  \n",
    "This can be done by checking ```model.status``` and printing the appropriate status. \n",
    "  "
   ]
  },
  {
   "cell_type": "code",
   "execution_count": 88,
   "metadata": {},
   "outputs": [
    {
     "name": "stdout",
     "output_type": "stream",
     "text": [
      "The model is feasible and we have found an optimal solution.\n"
     ]
    }
   ],
   "source": [
    "if model.status == GRB.OPTIMAL:\n",
    "    print('The model is feasible and we have found an optimal solution.')\n",
    "elif model.status == GRB.INF_OR_UNBD:\n",
    "    print('Model is infeasible or unbounded')\n",
    "    sys.exit(0)\n",
    "elif model.status == GRB.INFEASIBLE:\n",
    "    print('Model is infeasible')\n",
    "    sys.exit(0)\n",
    "elif model.status == GRB.UNBOUNDED:\n",
    "    print('Model is unbounded')\n",
    "    sys.exit(0)\n",
    "else:\n",
    "    print('Optimization ended with status %d' % model.status)\n",
    "    sys.exit(0)"
   ]
  },
  {
   "cell_type": "markdown",
   "metadata": {},
   "source": [
    "The current model is optimal. Let us print the optimal objective value using ```model.objVal```."
   ]
  },
  {
   "cell_type": "code",
   "execution_count": 89,
   "metadata": {},
   "outputs": [
    {
     "name": "stdout",
     "output_type": "stream",
     "text": [
      "5.0\n"
     ]
    }
   ],
   "source": [
    "print(model.objVal)"
   ]
  },
  {
   "cell_type": "markdown",
   "metadata": {},
   "source": [
    "Now, let us check the optimal value of $x, y, z$. ```model.getVars()``` gives us the list of all the decision variables. ```k.x``` returns the value, whereas ```k.varName``` returns the name of the variable."
   ]
  },
  {
   "cell_type": "code",
   "execution_count": 43,
   "metadata": {},
   "outputs": [
    {
     "name": "stdout",
     "output_type": "stream",
     "text": [
      "x  =  1.0\n",
      "y  =  0.0\n",
      "z  =  4.0\n"
     ]
    }
   ],
   "source": [
    "for k in model.getVars():\n",
    "    print(k.varName ,' = ', k.x)"
   ]
  },
  {
   "cell_type": "markdown",
   "metadata": {},
   "source": [
    "### What if the model is infeasible. "
   ]
  },
  {
   "cell_type": "code",
   "execution_count": 75,
   "metadata": {},
   "outputs": [
    {
     "name": "stdout",
     "output_type": "stream",
     "text": [
      "Read LP format model from file D:/Down/model.lp\n",
      "Reading time = 0.00 seconds\n",
      ": 2 rows, 3 columns, 5 nonzeros\n",
      "Model is infeasible or unbounded\n"
     ]
    },
    {
     "ename": "SystemExit",
     "evalue": "0",
     "output_type": "error",
     "traceback": [
      "An exception has occurred, use %tb to see the full traceback.\n",
      "\u001b[1;31mSystemExit\u001b[0m\u001b[1;31m:\u001b[0m 0\n"
     ]
    }
   ],
   "source": [
    "model = gp.read('D:/Down/model.lp')\n",
    "model.Params.outPutFlag = 0\n",
    "model.optimize()\n",
    "if model.status == GRB.INFEASIBLE:\n",
    "    print('Model is infeasible')\n",
    "    sys.exit(0)\n",
    "elif model.status == GRB.INF_OR_UNBD:\n",
    "    print('Model is infeasible or unbounded')\n",
    "    sys.exit(0)  \n"
   ]
  },
  {
   "cell_type": "markdown",
   "metadata": {},
   "source": [
    "Right now, the solver is not sure if the model is infeasible or unbounded. To clarify this, we set the ```model.Params.DualReductions``` to 0 and then re-optimize."
   ]
  },
  {
   "cell_type": "code",
   "execution_count": 72,
   "metadata": {},
   "outputs": [
    {
     "name": "stdout",
     "output_type": "stream",
     "text": [
      "Model is infeasible\n"
     ]
    }
   ],
   "source": [
    "model.Params.DualReductions  = 0\n",
    "model.optimize()\n",
    "if model.status == GRB.INFEASIBLE:\n",
    "    print('Model is infeasible')"
   ]
  },
  {
   "cell_type": "markdown",
   "metadata": {},
   "source": [
    "To further explore the infeasibility, we can compute an Irreducible  inconsistent Subsystem (IIS) using ```model.computeIIS()```  and write it as a file. "
   ]
  },
  {
   "cell_type": "code",
   "execution_count": 90,
   "metadata": {},
   "outputs": [
    {
     "ename": "GurobiError",
     "evalue": "Cannot compute IIS on a feasible model",
     "output_type": "error",
     "traceback": [
      "\u001b[1;31m---------------------------------------------------------------------------\u001b[0m",
      "\u001b[1;31mGurobiError\u001b[0m                               Traceback (most recent call last)",
      "\u001b[1;32m<ipython-input-90-12bbe6cac5f3>\u001b[0m in \u001b[0;36m<module>\u001b[1;34m\u001b[0m\n\u001b[1;32m----> 1\u001b[1;33m \u001b[0mmodel\u001b[0m\u001b[1;33m.\u001b[0m\u001b[0mcomputeIIS\u001b[0m\u001b[1;33m(\u001b[0m\u001b[1;33m)\u001b[0m\u001b[1;33m\u001b[0m\u001b[1;33m\u001b[0m\u001b[0m\n\u001b[0m\u001b[0;32m      2\u001b[0m \u001b[0mmodel\u001b[0m\u001b[1;33m.\u001b[0m\u001b[0mwrite\u001b[0m\u001b[1;33m(\u001b[0m\u001b[1;34m\"D:/Down/infeasible_model.lp\"\u001b[0m\u001b[1;33m)\u001b[0m\u001b[1;33m\u001b[0m\u001b[1;33m\u001b[0m\u001b[0m\n",
      "\u001b[1;32mmodel.pxi\u001b[0m in \u001b[0;36mgurobipy.Model.computeIIS\u001b[1;34m()\u001b[0m\n",
      "\u001b[1;31mGurobiError\u001b[0m: Cannot compute IIS on a feasible model"
     ]
    }
   ],
   "source": [
    "model.computeIIS() \n",
    "model.write(\"D:/Down/infeasible_model.lp\")"
   ]
  },
  {
   "cell_type": "markdown",
   "metadata": {},
   "source": [
    "### What if the model is unbounded\n",
    "We can get the extreme ray using ```model.getVarByName('x').FrakasDual```"
   ]
  }
 ],
 "metadata": {
  "kernelspec": {
   "display_name": "Python 3",
   "language": "python",
   "name": "python3"
  },
  "language_info": {
   "codemirror_mode": {
    "name": "ipython",
    "version": 3
   },
   "file_extension": ".py",
   "mimetype": "text/x-python",
   "name": "python",
   "nbconvert_exporter": "python",
   "pygments_lexer": "ipython3",
   "version": "3.8.3"
  }
 },
 "nbformat": 4,
 "nbformat_minor": 4
}
