{
 "cells": [
  {
   "cell_type": "markdown",
   "metadata": {},
   "source": [
    "# Solving network flow problems with networkx package\n",
    "In this tutorial, we will learn how to solve the network flow problems using ```networkx``` python package. Let's start by creating a network first. The details about our network is given below:\n",
    "\n",
    "### Nodes\n",
    "1, 2, 3, 4, 5\n",
    "\n",
    "### Edges\n",
    "(1, 2), (1, 3), (2, 3), (2, 4), (2, 5), (3, 4), (3, 5), (4, 5)\n",
    "\n",
    "### Costs\n",
    "(1, 2):4, (1, 3):4, (2, 3):2, (2, 4):2, (2, 5):6, (3, 4): 1, (3, 5):1, (4, 5):2\n",
    "\n",
    "### Upper bound on the flow (Capacity)\n",
    "(1, 2):15, (1, 3):8, (2, 3):$\\infty$, (2, 4):4, (2, 5):10, (3, 4): 15, (3, 5):4, (4, 5):$\\infty$\n",
    "\n",
    "### Demand\n",
    "(1, 5): 15, (1, 4): 5\n"
   ]
  },
  {
   "cell_type": "code",
   "execution_count": 1,
   "metadata": {},
   "outputs": [],
   "source": [
    "import networkx as nx #improting the package as \"nx\""
   ]
  },
  {
   "cell_type": "code",
   "execution_count": 2,
   "metadata": {},
   "outputs": [],
   "source": [
    "nodes = [1, 2, 3, 4, 5] # Make a list of nodes\n",
    "links = [(1, 2), (1, 3), (2, 3), (2, 4), (2, 5), (3, 4), (3, 5), (4, 5)] # Make a list of links"
   ]
  },
  {
   "cell_type": "code",
   "execution_count": 3,
   "metadata": {},
   "outputs": [],
   "source": [
    "g = nx.DiGraph() # Initialize the directed graph\n",
    "g.add_nodes_from(nodes) # Add nodes to the graph from the list we created\n",
    "g.add_edges_from(links) # Add links from the list we created"
   ]
  },
  {
   "cell_type": "code",
   "execution_count": 4,
   "metadata": {},
   "outputs": [
    {
     "name": "stdout",
     "output_type": "stream",
     "text": [
      "[1, 2, 3, 4, 5]\n",
      "[(1, 2), (1, 3), (2, 3), (2, 4), (2, 5), (3, 4), (3, 5), (4, 5)]\n"
     ]
    }
   ],
   "source": [
    "#Check if the nodes and links are added by printing them\n",
    "print(g.nodes)\n",
    "print(g.edges)"
   ]
  },
  {
   "cell_type": "markdown",
   "metadata": {},
   "source": [
    "### Drawing graphs"
   ]
  },
  {
   "cell_type": "code",
   "execution_count": 6,
   "metadata": {},
   "outputs": [
    {
     "data": {
      "image/png": "[encoded data removed]",
      "text/plain": [
       "<Figure size 432x288 with 1 Axes>"
      ]
     },
     "metadata": {},
     "output_type": "display_data"
    }
   ],
   "source": [
    "import matplotlib.pyplot as plt # import this package to plot the graph\n",
    "pos = nx.random_layout(g) # To get the coordinates of nodes\n",
    "nx.draw(g, with_labels=True, pos=pos) # We specify the graph, position, etc."
   ]
  },
  {
   "cell_type": "markdown",
   "metadata": {},
   "source": [
    "## Solving the shortest path problem\n",
    "First create a dictionary of costs of links and then add it as an attribute to the links of the graph. Use ```g[a][b['cost']``` to add the cost. Then, use ```nx.shortest_path(g, source, target)```  to compute the shortest path in ```g``` from origin/```source``` to the destination/```target```"
   ]
  },
  {
   "cell_type": "code",
   "execution_count": 7,
   "metadata": {},
   "outputs": [],
   "source": [
    "# Let's add the cost to edges\n",
    "costs ={(1, 2): 4, (1, 3):4, (2, 3):2, (2, 4):2, (2, 5):6, (3, 4): 1, (3, 5):1, (4, 5):2}\n",
    "for (a, b) in links:\n",
    "    g[a][b]['cost'] = costs[a, b] # Adding costs to the edges"
   ]
  },
  {
   "cell_type": "code",
   "execution_count": 8,
   "metadata": {},
   "outputs": [
    {
     "name": "stdout",
     "output_type": "stream",
     "text": [
      "shorest path between  1  and 5  is: [1, 3, 5]\n",
      "cost of the shorest path between  1  and 5  is: 5\n",
      "path between 2 and 5 is:  [2, 5]\n"
     ]
    }
   ],
   "source": [
    "p = nx.shortest_path(g, source=1, target = 5, weight = 'cost') # Computes a shortest path in the network \n",
    "print('shorest path between ', 1, ' and', 5, ' is:', p) # prints the path\n",
    "\n",
    "l = nx.shortest_path_length(g, source=1, target = 5, weight = 'cost') # Computes the cost of the shortest path\n",
    "print('cost of the shorest path between ', 1, ' and', 5, ' is:', l) # prints the cost of the shortest path\n",
    "\n",
    "p = nx.shortest_path(g) # If you don't specify the source and the destination, \n",
    "#then it would compute shortest path betweeen all origins and destinations\n",
    "# You can access the shorest path using \n",
    "print('path between 2 and 5 is: ', p[2][5])"
   ]
  },
  {
   "cell_type": "markdown",
   "metadata": {},
   "source": [
    "## Solving the minimum cost flow problem\n",
    "Similar to costs, create a dictionary of capacity and demand. Then, use ```nx.min_cost_flow(g, demand='demand', capacity='capacity', weight='weight')```. The function returns a dictionary of flow on edges. Total demand to be sent from node 1 is 20. Total demand need to be received at node 4 is 5 and at node 5 is 15."
   ]
  },
  {
   "cell_type": "code",
   "execution_count": 9,
   "metadata": {},
   "outputs": [
    {
     "name": "stdout",
     "output_type": "stream",
     "text": [
      "The flow on edge  (1, 2) is:  12\n",
      "The flow on edge  (1, 3) is:  8\n",
      "The flow on edge  (2, 3) is:  8\n",
      "The flow on edge  (2, 4) is:  4\n",
      "The flow on edge  (2, 5) is:  0\n",
      "The flow on edge  (3, 4) is:  12\n",
      "The flow on edge  (3, 5) is:  4\n",
      "The flow on edge  (4, 5) is:  11\n"
     ]
    }
   ],
   "source": [
    "g.nodes[1]['demand'] = -20 # -ve because this is to be sent.\n",
    "g.nodes[4]['demand'] = 5 \n",
    "g.nodes[5]['demand'] = 15\n",
    "\n",
    "# Let's add the capacity attribute\n",
    "\n",
    "capacity = {(1, 2):15, (1, 3):8, (2, 3):float(\"inf\"), (2, 4):4, (2, 5):10, (3, 4): 15, (3, 5):4, (4, 5):float(\"inf\")}\n",
    "\n",
    "for (a, b) in capacity:\n",
    "    g[a][b]['capacity'] = capacity[a, b] # Adding costs to the edges\n",
    "\n",
    "flowDict = nx.min_cost_flow(g, demand='demand', capacity='capacity', weight='cost') \n",
    "\n",
    "# To print the flow on edges\n",
    "for (a, b) in g.edges:\n",
    "    print('The flow on edge ', (a, b), 'is: ', flowDict[a][b])\n",
    "    "
   ]
  },
  {
   "cell_type": "markdown",
   "metadata": {},
   "source": [
    "## Solving the maximum flow problem\n",
    "We are going to use the same capacity values. The function ```nx.maximum_flow(g, origin, destination, capacity='capacity')``` returns the value of maximum flow and the flow on the edges. let's compute the maximum flow that can we can send from node 1 to node 5."
   ]
  },
  {
   "cell_type": "code",
   "execution_count": 10,
   "metadata": {},
   "outputs": [
    {
     "name": "stdout",
     "output_type": "stream",
     "text": [
      "maximum flow from node 1 to node 5 is: 23\n",
      "The flow on edge  (1, 2) is:  15\n",
      "The flow on edge  (1, 3) is:  8\n",
      "The flow on edge  (2, 3) is:  5\n",
      "The flow on edge  (2, 4) is:  0\n",
      "The flow on edge  (2, 5) is:  10\n",
      "The flow on edge  (3, 4) is:  9\n",
      "The flow on edge  (3, 5) is:  4\n",
      "The flow on edge  (4, 5) is:  9\n"
     ]
    }
   ],
   "source": [
    "results = nx.maximum_flow(g, 1, 5, capacity='capacity')\n",
    "print('maximum flow from node 1 to node 5 is:', results[0])\n",
    "\n",
    "# To print the flow on edges\n",
    "for (a, b) in g.edges:\n",
    "    print('The flow on edge ', (a, b), 'is: ', results[1][a][b])"
   ]
  },
  {
   "cell_type": "markdown",
   "metadata": {},
   "source": [
    "## Solving the maximum weight matching problem\n",
    "Use ```nx.max_weight_matching(g, maxcardinality=True)``` to compute the maximum weight matching problem. ```maxcardinality=True``` helps to find the one that also maximizes the number of edges in the matching. "
   ]
  },
  {
   "cell_type": "code",
   "execution_count": 12,
   "metadata": {},
   "outputs": [
    {
     "name": "stdout",
     "output_type": "stream",
     "text": [
      "{(2, 5), (1, 3)}\n"
     ]
    }
   ],
   "source": [
    "print(nx.max_weight_matching(g, maxcardinality=False, weight='cost'))"
   ]
  }
 ],
 "metadata": {
  "kernelspec": {
   "display_name": "Python 3",
   "language": "python",
   "name": "python3"
  },
  "language_info": {
   "codemirror_mode": {
    "name": "ipython",
    "version": 3
   },
   "file_extension": ".py",
   "mimetype": "text/x-python",
   "name": "python",
   "nbconvert_exporter": "python",
   "pygments_lexer": "ipython3",
   "version": "3.8.3"
  }
 },
 "nbformat": 4,
 "nbformat_minor": 4
}
